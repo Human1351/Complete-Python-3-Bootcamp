{
 "cells": [
  {
   "cell_type": "markdown",
   "metadata": {},
   "source": [
    "# Opening and Reading Files and Folders\n",
    "### Using Python's *os* module and shutil\n",
    "*Easily navigate files and directories on the computer and then perform actions on them (ie: moving, deleting, etc..)"
   ]
  },
  {
   "cell_type": "markdown",
   "metadata": {},
   "source": [
    "## OS"
   ]
  },
  {
   "cell_type": "code",
   "execution_count": 17,
   "metadata": {},
   "outputs": [
    {
     "name": "stdout",
     "output_type": "stream",
     "text": [
      "C:\\Users\\selli\\Desktop\\Python\\Udemy-PythonIntro\\Learning Resources\\Complete-Python-3-Bootcamp-master\\13-Advanced Python Modules\n"
     ]
    }
   ],
   "source": [
    "cd C:\\Users\\selli\\Desktop\\Python\\Udemy-PythonIntro\\Learning Resources\\Complete-Python-3-Bootcamp-master\\13-Advanced Python Modules"
   ]
  },
  {
   "cell_type": "code",
   "execution_count": 18,
   "metadata": {},
   "outputs": [
    {
     "data": {
      "text/plain": [
       "'C:\\\\Users\\\\selli\\\\Desktop\\\\Python\\\\Udemy-PythonIntro\\\\Learning Resources\\\\Complete-Python-3-Bootcamp-master\\\\13-Advanced Python Modules'"
      ]
     },
     "execution_count": 18,
     "metadata": {},
     "output_type": "execute_result"
    }
   ],
   "source": [
    "# Get current working Path\n",
    "pwd"
   ]
  },
  {
   "cell_type": "code",
   "execution_count": 19,
   "metadata": {},
   "outputs": [],
   "source": [
    "# Create and Write to a text file (in current pwd)\n",
    "f = open('practice.txt','w')\n",
    "f.write('This is a Test String')\n",
    "f.close()"
   ]
  },
  {
   "cell_type": "code",
   "execution_count": 20,
   "metadata": {},
   "outputs": [
    {
     "name": "stdout",
     "output_type": "stream",
     "text": [
      " Volume in drive C has no label.\n",
      " Volume Serial Number is 6E97-4F02\n",
      "\n",
      " Directory of C:\\Users\\selli\\Desktop\\Python\\Udemy-PythonIntro\\Learning Resources\\Complete-Python-3-Bootcamp-master\\13-Advanced Python Modules\n",
      "\n",
      "10/27/2020  03:04 PM    <DIR>          .\n",
      "10/27/2020  03:04 PM    <DIR>          ..\n",
      "10/18/2020  11:58 AM    <DIR>          .ipynb_checkpoints\n",
      "04/27/2020  12:41 PM            13,946 01-Collections Module.ipynb\n",
      "04/27/2020  12:41 PM             6,681 02-Datetime.ipynb\n",
      "04/27/2020  12:41 PM             4,029 03-Python Debugger (pdb).ipynb\n",
      "04/27/2020  12:41 PM             4,968 04-Timing your code - timeit.ipynb\n",
      "04/27/2020  12:41 PM            19,465 05-Regular Expressions - re.ipynb\n",
      "04/27/2020  12:41 PM             3,949 06-StringIO.ipynb\n",
      "10/27/2020  03:04 PM                21 practice.txt\n",
      "               7 File(s)         53,059 bytes\n",
      "               3 Dir(s)  401,755,451,392 bytes free\n"
     ]
    }
   ],
   "source": [
    "ls"
   ]
  },
  {
   "cell_type": "code",
   "execution_count": 21,
   "metadata": {},
   "outputs": [],
   "source": [
    "import os"
   ]
  },
  {
   "cell_type": "code",
   "execution_count": 22,
   "metadata": {},
   "outputs": [
    {
     "data": {
      "text/plain": [
       "'C:\\\\Users\\\\selli\\\\Desktop\\\\Python\\\\Udemy-PythonIntro\\\\Learning Resources\\\\Complete-Python-3-Bootcamp-master\\\\13-Advanced Python Modules'"
      ]
     },
     "execution_count": 22,
     "metadata": {},
     "output_type": "execute_result"
    }
   ],
   "source": [
    "# Using OS to get the current directory\n",
    "os.getcwd()"
   ]
  },
  {
   "cell_type": "code",
   "execution_count": 24,
   "metadata": {},
   "outputs": [
    {
     "data": {
      "text/plain": [
       "['.ipynb_checkpoints',\n",
       " '01-Collections Module.ipynb',\n",
       " '02-Datetime.ipynb',\n",
       " '03-Python Debugger (pdb).ipynb',\n",
       " '04-Timing your code - timeit.ipynb',\n",
       " '05-Regular Expressions - re.ipynb',\n",
       " '06-StringIO.ipynb',\n",
       " 'practice.txt']"
      ]
     },
     "execution_count": 24,
     "metadata": {},
     "output_type": "execute_result"
    }
   ],
   "source": [
    "# OS to list the files/colders\n",
    "os.listdir()"
   ]
  },
  {
   "cell_type": "code",
   "execution_count": 27,
   "metadata": {},
   "outputs": [
    {
     "data": {
      "text/plain": [
       "['blink_test.txt',\n",
       " 'Certs',\n",
       " 'desktop.ini',\n",
       " 'House',\n",
       " 'LinuxDistros',\n",
       " 'opencv_python-4.4.0-cp38-cp38-win_amd64.whl',\n",
       " 'pip_freeze.txt',\n",
       " 'programs.txt',\n",
       " 'Python',\n",
       " 'test.py',\n",
       " 'web_dev-bootcamp',\n",
       " 'web_pages']"
      ]
     },
     "execution_count": 27,
     "metadata": {},
     "output_type": "execute_result"
    }
   ],
   "source": [
    "# Pass a path to listdir() to get the files/folders at that directory\n",
    "os.listdir('C:\\\\Users\\\\selli\\\\Desktop')"
   ]
  },
  {
   "cell_type": "markdown",
   "metadata": {},
   "source": [
    "## shutil \n",
    "#### Move files around using shutil"
   ]
  },
  {
   "cell_type": "code",
   "execution_count": 28,
   "metadata": {},
   "outputs": [],
   "source": [
    "import shutil"
   ]
  },
  {
   "cell_type": "code",
   "execution_count": 29,
   "metadata": {},
   "outputs": [
    {
     "data": {
      "text/plain": [
       "'C:\\\\Users\\\\selli\\\\Desktop\\\\practice.txt'"
      ]
     },
     "execution_count": 29,
     "metadata": {},
     "output_type": "execute_result"
    }
   ],
   "source": [
    "# using move to move file  -> (path/fileName, destinationPath)\n",
    "shutil.move('practice.txt','C:\\\\Users\\\\selli\\\\Desktop')"
   ]
  },
  {
   "cell_type": "markdown",
   "metadata": {},
   "source": [
    "## OS - Deleting Files\n",
    "**USE CATION**"
   ]
  },
  {
   "cell_type": "markdown",
   "metadata": {},
   "source": [
    "**NOTE:** None of the below actions can be undone... There is no 'trash' folder"
   ]
  },
  {
   "cell_type": "markdown",
   "metadata": {},
   "source": [
    "Delete a file at the path provided\n",
    "```python\n",
    "# os.unlink('path/fileName.ext')\n",
    "```\n",
    "Delete an EMPTY folder @ path\n",
    "```python\n",
    "# os.rmdir('path/folderName')\n",
    "```\n",
    "Delete ALL files and folders contained in the path\n",
    "USE CAUTION WITH THIS ONE!\n",
    "```python\n",
    "# shutil.rmtree('path/folderName')\n",
    "```"
   ]
  },
  {
   "cell_type": "markdown",
   "metadata": {},
   "source": [
    "### Use the *send2trash* Module to have the backup of the files/folders being moved to 'trash' folder instead of permanant deletion.\n",
    "```\n",
    "pip install send2trash\n",
    "```"
   ]
  },
  {
   "cell_type": "code",
   "execution_count": 32,
   "metadata": {},
   "outputs": [],
   "source": [
    "import send2trash"
   ]
  },
  {
   "cell_type": "code",
   "execution_count": 34,
   "metadata": {},
   "outputs": [
    {
     "data": {
      "text/plain": [
       "'C:\\\\Users\\\\selli\\\\Desktop\\\\Python\\\\Udemy-PythonIntro\\\\Learning Resources\\\\Complete-Python-3-Bootcamp-master\\\\13-Advanced Python Modules\\\\practice.txt'"
      ]
     },
     "execution_count": 34,
     "metadata": {},
     "output_type": "execute_result"
    }
   ],
   "source": [
    "# Moving the 'practice' file back to current dir\n",
    "shutil.move('C:\\\\Users\\\\selli\\\\Desktop\\\\practice.txt', os.getcwd())"
   ]
  },
  {
   "cell_type": "code",
   "execution_count": 35,
   "metadata": {},
   "outputs": [],
   "source": [
    "send2trash.send2trash('practice.txt')"
   ]
  },
  {
   "cell_type": "code",
   "execution_count": 36,
   "metadata": {},
   "outputs": [
    {
     "data": {
      "text/plain": [
       "['.ipynb_checkpoints',\n",
       " '01-Collections Module.ipynb',\n",
       " '02-Datetime.ipynb',\n",
       " '03-Python Debugger (pdb).ipynb',\n",
       " '04-Timing your code - timeit.ipynb',\n",
       " '05-Regular Expressions - re.ipynb',\n",
       " '06-StringIO.ipynb']"
      ]
     },
     "execution_count": 36,
     "metadata": {},
     "output_type": "execute_result"
    }
   ],
   "source": [
    "os.listdir()"
   ]
  },
  {
   "cell_type": "markdown",
   "metadata": {},
   "source": [
    "Now the 'practice.txt' file is in the Recycle bin"
   ]
  },
  {
   "cell_type": "markdown",
   "metadata": {},
   "source": [
    "## os.walk\n",
    "- A directory path tree\n",
    "- Very Useful to use!"
   ]
  },
  {
   "cell_type": "code",
   "execution_count": 50,
   "metadata": {},
   "outputs": [
    {
     "name": "stdout",
     "output_type": "stream",
     "text": [
      "Currently looking at C:\\Users\\selli\\Desktop\\Python\\Udemy-PythonIntro\\Learning Resources\n",
      "\tThe subfolders are: \t Subfolder: ['.ipynb_checkpoints', 'Complete-Python-3-Bootcamp-master']\n",
      "\t\tThe files are: \t File: ['LinksForMoreBasicPythonPractice']\n",
      "\n",
      "\n",
      "Currently looking at C:\\Users\\selli\\Desktop\\Python\\Udemy-PythonIntro\\Learning Resources\\.ipynb_checkpoints\n",
      "\tThe subfolders are: \t Subfolder: []\n",
      "\t\tThe files are: \t File: []\n",
      "\n",
      "\n",
      "Currently looking at C:\\Users\\selli\\Desktop\\Python\\Udemy-PythonIntro\\Learning Resources\\Complete-Python-3-Bootcamp-master\n",
      "\tThe subfolders are: \t Subfolder: ['00-Python Object and Data Structure Basics', '01-Python Comparison Operators', '02-Python Statements', '03-Methods and Functions', '04-Milestone Project - 1', '05-Object Oriented Programming', '06-Modules and Packages', '07-Errors and Exception Handling', '08-Milestone Project - 2', '09-Built-in Functions', '10-Python Decorators', '11-Python Generators', '12-Final Capstone Python Project', '13-Advanced Python Modules', '14-Advanced Python Objects and Data Structures', '15-Advanced OOP', '16-Bonus Material - Introduction to GUIs', '17-Parallel Processing']\n",
      "\t\tThe files are: \t File: ['FAQ.ipynb', 'Jupyter (iPython) Notebooks Guide.ipynb', 'README.md']\n",
      "\n",
      "\n",
      "Currently looking at C:\\Users\\selli\\Desktop\\Python\\Udemy-PythonIntro\\Learning Resources\\Complete-Python-3-Bootcamp-master\\00-Python Object and Data Structure Basics\n",
      "\tThe subfolders are: \t Subfolder: ['.ipynb_checkpoints']\n",
      "\t\tThe files are: \t File: ['01-Numbers.ipynb', '01-Variable Assignment.ipynb', '02-Strings.ipynb', '03-Print Formatting with Strings.ipynb', '04-Lists.ipynb', '05-Dictionaries.ipynb', '06-Tuples.ipynb', '07-Sets and Booleans.ipynb', '08-Files.ipynb', '09-Objects and Data Structures Assessment Test.ipynb', '10-Objects and Data Structures Assessment Test-Solution.ipynb', 'test.txt']\n",
      "\n",
      "\n",
      "Currently looking at C:\\Users\\selli\\Desktop\\Python\\Udemy-PythonIntro\\Learning Resources\\Complete-Python-3-Bootcamp-master\\00-Python Object and Data Structure Basics\\.ipynb_checkpoints\n",
      "\tThe subfolders are: \t Subfolder: []\n",
      "\t\tThe files are: \t File: ['01-Numbers-checkpoint.ipynb', '01-Variable Assignment-checkpoint.ipynb', '02-Strings-checkpoint.ipynb', '03-Print Formatting with Strings-checkpoint.ipynb', '06-Tuples-checkpoint.ipynb', '07-Sets and Booleans-checkpoint.ipynb', '08-Files-checkpoint.ipynb', '09-Objects and Data Structures Assessment Test-checkpoint.ipynb', '10-Objects and Data Structures Assessment Test-Solution-checkpoint.ipynb']\n",
      "\n",
      "\n",
      "Currently looking at C:\\Users\\selli\\Desktop\\Python\\Udemy-PythonIntro\\Learning Resources\\Complete-Python-3-Bootcamp-master\\01-Python Comparison Operators\n",
      "\tThe subfolders are: \t Subfolder: ['.ipynb_checkpoints']\n",
      "\t\tThe files are: \t File: ['01-Comparison Operators.ipynb', '02-Chained Comparison Operators.ipynb']\n",
      "\n",
      "\n",
      "Currently looking at C:\\Users\\selli\\Desktop\\Python\\Udemy-PythonIntro\\Learning Resources\\Complete-Python-3-Bootcamp-master\\01-Python Comparison Operators\\.ipynb_checkpoints\n",
      "\tThe subfolders are: \t Subfolder: []\n",
      "\t\tThe files are: \t File: ['01-Comparison Operators-checkpoint.ipynb', '02-Chained Comparison Operators-checkpoint.ipynb']\n",
      "\n",
      "\n",
      "Currently looking at C:\\Users\\selli\\Desktop\\Python\\Udemy-PythonIntro\\Learning Resources\\Complete-Python-3-Bootcamp-master\\02-Python Statements\n",
      "\tThe subfolders are: \t Subfolder: ['.ipynb_checkpoints']\n",
      "\t\tThe files are: \t File: ['01-Introduction to Python Statements.ipynb', '02-if, elif, and else Statements.ipynb', '03-for Loops.ipynb', '04-while Loops.ipynb', '05-Useful-Operators.ipynb', '06-List Comprehensions.ipynb', '07-Statements Assessment Test.ipynb', '08-Statements Assessment Test - Solutions.ipynb', '09-Guessing Game Challenge.ipynb', '10-Guessing Game Challenge - Solution.ipynb']\n",
      "\n",
      "\n",
      "Currently looking at C:\\Users\\selli\\Desktop\\Python\\Udemy-PythonIntro\\Learning Resources\\Complete-Python-3-Bootcamp-master\\02-Python Statements\\.ipynb_checkpoints\n",
      "\tThe subfolders are: \t Subfolder: []\n",
      "\t\tThe files are: \t File: ['01-Introduction to Python Statements-checkpoint.ipynb', '02-if, elif, and else Statements-checkpoint.ipynb', '03-for Loops-checkpoint.ipynb', '04-while Loops-checkpoint.ipynb', '05-range()-checkpoint.ipynb', '05-Useful-Operators-checkpoint.ipynb', '06-List Comprehensions-checkpoint.ipynb', '07-Statements Assessment Test-checkpoint.ipynb', '08-Statements Assessment Test - Solutions-checkpoint.ipynb', '09-Guessing Game Challenge-checkpoint.ipynb', '10-Guessing Game Challenge - Solution-checkpoint.ipynb']\n",
      "\n",
      "\n",
      "Currently looking at C:\\Users\\selli\\Desktop\\Python\\Udemy-PythonIntro\\Learning Resources\\Complete-Python-3-Bootcamp-master\\03-Methods and Functions\n",
      "\tThe subfolders are: \t Subfolder: ['.ipynb_checkpoints']\n",
      "\t\tThe files are: \t File: ['01-Methods.ipynb', '02-Functions.ipynb', '03-Function Practice Exercises.ipynb', '04-Function Practice Exercises - Solutions.ipynb', '05-Lambda-Expressions-Map-and-Filter.ipynb', '06-Nested Statements and Scope.ipynb', '07-args and kwargs.ipynb', '08-Functions and Methods Homework.ipynb', '09-Functions and Methods Homework - Solutions.ipynb', '100']\n",
      "\n",
      "\n",
      "Currently looking at C:\\Users\\selli\\Desktop\\Python\\Udemy-PythonIntro\\Learning Resources\\Complete-Python-3-Bootcamp-master\\03-Methods and Functions\\.ipynb_checkpoints\n",
      "\tThe subfolders are: \t Subfolder: []\n",
      "\t\tThe files are: \t File: ['01-Methods-checkpoint.ipynb', '02-Functions-checkpoint.ipynb', '03-Function Practice Exercises-checkpoint.ipynb', '03-Lambda expressions-checkpoint.ipynb', '04-Function Practice Exercises - Solutions-checkpoint.ipynb', '04-Nested Statements and Scope-checkpoint.ipynb', '05-Functions and Methods Homework-checkpoint.ipynb', '05-Lambda-Expressions-Map-and-Filter-checkpoint.ipynb', '06-Functions and Methods Homework - Solutions-checkpoint.ipynb', '07-args and kwargs-checkpoint.ipynb', '08-Function Practice Exercises-checkpoint.ipynb', '08-Functions and Methods Homework-checkpoint.ipynb', '09-Function Practice Exercises - Solutions-checkpoint.ipynb']\n",
      "\n",
      "\n",
      "Currently looking at C:\\Users\\selli\\Desktop\\Python\\Udemy-PythonIntro\\Learning Resources\\Complete-Python-3-Bootcamp-master\\04-Milestone Project - 1\n",
      "\tThe subfolders are: \t Subfolder: ['.ipynb_checkpoints']\n",
      "\t\tThe files are: \t File: ['01-Milestone Project 1 - Assignment.ipynb', '02-Milestone Project 1 - Walkthrough Steps Workbook-Copy1.ipynb', '02-Milestone Project 1 - Walkthrough Steps Workbook.ipynb', '03-Milestone Project 1 - Complete Walkthrough Solution.ipynb', '04-OPTIONAL -Milestone Project 1 - Advanced Solution.ipynb']\n",
      "\n",
      "\n",
      "Currently looking at C:\\Users\\selli\\Desktop\\Python\\Udemy-PythonIntro\\Learning Resources\\Complete-Python-3-Bootcamp-master\\04-Milestone Project - 1\\.ipynb_checkpoints\n",
      "\tThe subfolders are: \t Subfolder: []\n",
      "\t\tThe files are: \t File: ['01-Milestone Project 1 - Assignment-checkpoint.ipynb', '02-Milestone Project 1 - Walkthrough Steps Workbook-checkpoint.ipynb', '02-Milestone Project 1 - Walkthrough Steps Workbook-Copy1-checkpoint.ipynb', '03-Milestone Project 1 - Complete Walkthrough Solution-checkpoint.ipynb', '04-OPTIONAL -Milestone Project 1 - Advanced Solution-checkpoint.ipynb']\n",
      "\n",
      "\n",
      "Currently looking at C:\\Users\\selli\\Desktop\\Python\\Udemy-PythonIntro\\Learning Resources\\Complete-Python-3-Bootcamp-master\\05-Object Oriented Programming\n",
      "\tThe subfolders are: \t Subfolder: ['.ipynb_checkpoints']\n",
      "\t\tThe files are: \t File: ['01-Object Oriented Programming.ipynb', '02-Object Oriented Programming Homework.ipynb', '03-Object Oriented Programming Homework - Solution.ipynb', '04-OOP Challenge.ipynb', '05-OOP Challenge - Solution.ipynb']\n",
      "\n",
      "\n",
      "Currently looking at C:\\Users\\selli\\Desktop\\Python\\Udemy-PythonIntro\\Learning Resources\\Complete-Python-3-Bootcamp-master\\05-Object Oriented Programming\\.ipynb_checkpoints\n",
      "\tThe subfolders are: \t Subfolder: []\n",
      "\t\tThe files are: \t File: ['01-Object Oriented Programming-checkpoint.ipynb', '01-Object Oriented Programming-Copy1-checkpoint.ipynb', '02-Object Oriented Programming Homework-checkpoint.ipynb', '03-Object Oriented Programming Homework - Solution-checkpoint.ipynb', '04-OOP Challenge-checkpoint.ipynb', '05-OOP Challenge - Solution-checkpoint.ipynb']\n",
      "\n",
      "\n",
      "Currently looking at C:\\Users\\selli\\Desktop\\Python\\Udemy-PythonIntro\\Learning Resources\\Complete-Python-3-Bootcamp-master\\06-Modules and Packages\n",
      "\tThe subfolders are: \t Subfolder: ['.ipynb_checkpoints', '00-Modules_and_Packages', '01-Name_and_Main', '__pycache__']\n",
      "\t\tThe files are: \t File: ['file1.py', 'file2.py', 'file3.py', 'Useful_Info_Notebook.ipynb']\n",
      "\n",
      "\n",
      "Currently looking at C:\\Users\\selli\\Desktop\\Python\\Udemy-PythonIntro\\Learning Resources\\Complete-Python-3-Bootcamp-master\\06-Modules and Packages\\.ipynb_checkpoints\n",
      "\tThe subfolders are: \t Subfolder: []\n",
      "\t\tThe files are: \t File: ['01-Modules and Packages-checkpoint.ipynb', 'Useful_Info_Notebook-checkpoint.ipynb']\n",
      "\n",
      "\n",
      "Currently looking at C:\\Users\\selli\\Desktop\\Python\\Udemy-PythonIntro\\Learning Resources\\Complete-Python-3-Bootcamp-master\\06-Modules and Packages\\00-Modules_and_Packages\n",
      "\tThe subfolders are: \t Subfolder: ['MyMainPackage']\n",
      "\t\tThe files are: \t File: ['mymodule.py', 'myprogram.py']\n",
      "\n",
      "\n",
      "Currently looking at C:\\Users\\selli\\Desktop\\Python\\Udemy-PythonIntro\\Learning Resources\\Complete-Python-3-Bootcamp-master\\06-Modules and Packages\\00-Modules_and_Packages\\MyMainPackage\n",
      "\tThe subfolders are: \t Subfolder: ['SubPackage', '__pycache__']\n",
      "\t\tThe files are: \t File: ['some_main_script.py', '__init__.py']\n",
      "\n",
      "\n",
      "Currently looking at C:\\Users\\selli\\Desktop\\Python\\Udemy-PythonIntro\\Learning Resources\\Complete-Python-3-Bootcamp-master\\06-Modules and Packages\\00-Modules_and_Packages\\MyMainPackage\\SubPackage\n",
      "\tThe subfolders are: \t Subfolder: ['__pycache__']\n",
      "\t\tThe files are: \t File: ['mysubscript.py', '__init__.py']\n",
      "\n",
      "\n",
      "Currently looking at C:\\Users\\selli\\Desktop\\Python\\Udemy-PythonIntro\\Learning Resources\\Complete-Python-3-Bootcamp-master\\06-Modules and Packages\\00-Modules_and_Packages\\MyMainPackage\\SubPackage\\__pycache__\n",
      "\tThe subfolders are: \t Subfolder: []\n",
      "\t\tThe files are: \t File: ['mysubscript.cpython-36.pyc', '__init__.cpython-36.pyc']\n",
      "\n",
      "\n",
      "Currently looking at C:\\Users\\selli\\Desktop\\Python\\Udemy-PythonIntro\\Learning Resources\\Complete-Python-3-Bootcamp-master\\06-Modules and Packages\\00-Modules_and_Packages\\MyMainPackage\\__pycache__\n",
      "\tThe subfolders are: \t Subfolder: []\n",
      "\t\tThe files are: \t File: ['some_main_script.cpython-36.pyc', '__init__.cpython-36.pyc']\n",
      "\n",
      "\n",
      "Currently looking at C:\\Users\\selli\\Desktop\\Python\\Udemy-PythonIntro\\Learning Resources\\Complete-Python-3-Bootcamp-master\\06-Modules and Packages\\01-Name_and_Main\n",
      "\tThe subfolders are: \t Subfolder: []\n",
      "\t\tThe files are: \t File: ['Explanation.txt', 'one.py', 'two.py']\n",
      "\n",
      "\n",
      "Currently looking at C:\\Users\\selli\\Desktop\\Python\\Udemy-PythonIntro\\Learning Resources\\Complete-Python-3-Bootcamp-master\\06-Modules and Packages\\__pycache__\n",
      "\tThe subfolders are: \t Subfolder: []\n",
      "\t\tThe files are: \t File: ['file1.cpython-36.pyc']\n",
      "\n",
      "\n",
      "Currently looking at C:\\Users\\selli\\Desktop\\Python\\Udemy-PythonIntro\\Learning Resources\\Complete-Python-3-Bootcamp-master\\07-Errors and Exception Handling\n",
      "\tThe subfolders are: \t Subfolder: ['.ipynb_checkpoints', '__pycache__']\n",
      "\t\tThe files are: \t File: ['01-Errors and Exceptions Handling.ipynb', '02-Errors and Exceptions Homework.ipynb', '03-Errors and Exceptions Homework - Solution.ipynb', '04-Unit Testing.ipynb', 'cap.py', 'simple1.py', 'simple2.py', 'testfile', 'test_cap.py']\n",
      "\n",
      "\n",
      "Currently looking at C:\\Users\\selli\\Desktop\\Python\\Udemy-PythonIntro\\Learning Resources\\Complete-Python-3-Bootcamp-master\\07-Errors and Exception Handling\\.ipynb_checkpoints\n",
      "\tThe subfolders are: \t Subfolder: []\n",
      "\t\tThe files are: \t File: ['01-Errors and Exceptions Handling-checkpoint.ipynb', '02-Errors and Exceptions Homework-checkpoint.ipynb', '03-Errors and Exceptions Homework - Solution-checkpoint.ipynb', '04-Unit Testing-checkpoint.ipynb']\n",
      "\n",
      "\n",
      "Currently looking at C:\\Users\\selli\\Desktop\\Python\\Udemy-PythonIntro\\Learning Resources\\Complete-Python-3-Bootcamp-master\\07-Errors and Exception Handling\\__pycache__\n",
      "\tThe subfolders are: \t Subfolder: []\n",
      "\t\tThe files are: \t File: ['cap.cpython-36.pyc']\n",
      "\n",
      "\n",
      "Currently looking at C:\\Users\\selli\\Desktop\\Python\\Udemy-PythonIntro\\Learning Resources\\Complete-Python-3-Bootcamp-master\\08-Milestone Project - 2\n",
      "\tThe subfolders are: \t Subfolder: ['.ipynb_checkpoints']\n",
      "\t\tThe files are: \t File: ['01-Milestone Project 2 - Assignment.ipynb', '02-Milestone Project 2 - Walkthrough Steps Workbook.ipynb', '03-Milestone Project 2 - Complete Walkthrough Solution.ipynb', '04-Milestone Project 2 - Solution Code.ipynb']\n",
      "\n",
      "\n",
      "Currently looking at C:\\Users\\selli\\Desktop\\Python\\Udemy-PythonIntro\\Learning Resources\\Complete-Python-3-Bootcamp-master\\08-Milestone Project - 2\\.ipynb_checkpoints\n",
      "\tThe subfolders are: \t Subfolder: []\n",
      "\t\tThe files are: \t File: ['01-Milestone Project 2 - Assignment-checkpoint.ipynb', '02-Milestone Project 2 - Walkthrough Steps Workbook-checkpoint.ipynb', '03-Milestone Project 2 - Complete Walkthrough Solution-checkpoint.ipynb', '04-Milestone Project 2 - Solution Code-checkpoint.ipynb']\n",
      "\n",
      "\n",
      "Currently looking at C:\\Users\\selli\\Desktop\\Python\\Udemy-PythonIntro\\Learning Resources\\Complete-Python-3-Bootcamp-master\\09-Built-in Functions\n",
      "\tThe subfolders are: \t Subfolder: ['.ipynb_checkpoints']\n",
      "\t\tThe files are: \t File: ['01-Map.ipynb', '02-Reduce.ipynb', '03-Filter.ipynb', '04-Zip.ipynb', '05-Enumerate.ipynb', '06-all() and any().ipynb', '07-Complex.ipynb', '08-Built-in Functions Assessment Test.ipynb', '09-Built-in Functions Assessment Test - Solution.ipynb']\n",
      "\n",
      "\n",
      "Currently looking at C:\\Users\\selli\\Desktop\\Python\\Udemy-PythonIntro\\Learning Resources\\Complete-Python-3-Bootcamp-master\\09-Built-in Functions\\.ipynb_checkpoints\n",
      "\tThe subfolders are: \t Subfolder: []\n",
      "\t\tThe files are: \t File: ['01-Map-checkpoint.ipynb', '02-Reduce-checkpoint.ipynb', '03-Filter-checkpoint.ipynb', '04-Zip-checkpoint.ipynb', '05-Enumerate-checkpoint.ipynb', '06-all() and any()-checkpoint.ipynb', '07-Complex-checkpoint.ipynb', '08-Built-in Functions Assessment Test-checkpoint.ipynb', '09-Built-in Functions Assessment Test - Solution-checkpoint.ipynb']\n",
      "\n",
      "\n",
      "Currently looking at C:\\Users\\selli\\Desktop\\Python\\Udemy-PythonIntro\\Learning Resources\\Complete-Python-3-Bootcamp-master\\10-Python Decorators\n",
      "\tThe subfolders are: \t Subfolder: ['.ipynb_checkpoints']\n",
      "\t\tThe files are: \t File: ['01-Decorators.ipynb', '02-Decorators Homework.ipynb']\n",
      "\n",
      "\n",
      "Currently looking at C:\\Users\\selli\\Desktop\\Python\\Udemy-PythonIntro\\Learning Resources\\Complete-Python-3-Bootcamp-master\\10-Python Decorators\\.ipynb_checkpoints\n",
      "\tThe subfolders are: \t Subfolder: []\n",
      "\t\tThe files are: \t File: ['01-Decorators-checkpoint.ipynb', '02-Decorators Homework-checkpoint.ipynb']\n",
      "\n",
      "\n",
      "Currently looking at C:\\Users\\selli\\Desktop\\Python\\Udemy-PythonIntro\\Learning Resources\\Complete-Python-3-Bootcamp-master\\11-Python Generators\n",
      "\tThe subfolders are: \t Subfolder: ['.ipynb_checkpoints']\n",
      "\t\tThe files are: \t File: ['01-Iterators and Generators.ipynb', '02-Iterators and Generators Homework.ipynb', '03-Iterators and Generators Homework - Solution.ipynb']\n",
      "\n",
      "\n",
      "Currently looking at C:\\Users\\selli\\Desktop\\Python\\Udemy-PythonIntro\\Learning Resources\\Complete-Python-3-Bootcamp-master\\11-Python Generators\\.ipynb_checkpoints\n",
      "\tThe subfolders are: \t Subfolder: []\n",
      "\t\tThe files are: \t File: ['01-Iterators and Generators-checkpoint.ipynb', '02-Iterators and Generators Homework-checkpoint.ipynb', '03-Iterators and Generators Homework - Solution-checkpoint.ipynb']\n",
      "\n",
      "\n",
      "Currently looking at C:\\Users\\selli\\Desktop\\Python\\Udemy-PythonIntro\\Learning Resources\\Complete-Python-3-Bootcamp-master\\12-Final Capstone Python Project\n",
      "\tThe subfolders are: \t Subfolder: ['.ipynb_checkpoints', 'Projects-Solutions']\n",
      "\t\tThe files are: \t File: ['01-Final Capstone Project.ipynb', '02-Final Capstone Project Ideas.ipynb', '03-Final Capstone Suggested Walkthrough.ipynb']\n",
      "\n",
      "\n",
      "Currently looking at C:\\Users\\selli\\Desktop\\Python\\Udemy-PythonIntro\\Learning Resources\\Complete-Python-3-Bootcamp-master\\12-Final Capstone Python Project\\.ipynb_checkpoints\n",
      "\tThe subfolders are: \t Subfolder: []\n",
      "\t\tThe files are: \t File: ['01-Final Capstone Project-checkpoint.ipynb', '02-Final Capstone Project Ideas-checkpoint.ipynb', '03-Final Capstone Suggested Walkthrough-checkpoint.ipynb']\n",
      "\n",
      "\n",
      "Currently looking at C:\\Users\\selli\\Desktop\\Python\\Udemy-PythonIntro\\Learning Resources\\Complete-Python-3-Bootcamp-master\\12-Final Capstone Python Project\\Projects-Solutions\n",
      "\tThe subfolders are: \t Subfolder: []\n",
      "\t\tThe files are: \t File: ['Solution Links.md']\n",
      "\n",
      "\n",
      "Currently looking at C:\\Users\\selli\\Desktop\\Python\\Udemy-PythonIntro\\Learning Resources\\Complete-Python-3-Bootcamp-master\\13-Advanced Python Modules\n",
      "\tThe subfolders are: \t Subfolder: ['.ipynb_checkpoints']\n",
      "\t\tThe files are: \t File: ['01-Collections Module.ipynb', '02-Datetime.ipynb', '03-Python Debugger (pdb).ipynb', '04-Timing your code - timeit.ipynb', '05-Regular Expressions - re.ipynb', '06-StringIO.ipynb']\n",
      "\n",
      "\n",
      "Currently looking at C:\\Users\\selli\\Desktop\\Python\\Udemy-PythonIntro\\Learning Resources\\Complete-Python-3-Bootcamp-master\\13-Advanced Python Modules\\.ipynb_checkpoints\n",
      "\tThe subfolders are: \t Subfolder: []\n",
      "\t\tThe files are: \t File: ['01-Collections Module-checkpoint.ipynb', '02-Datetime-checkpoint.ipynb', '03-Python Debugger (pdb)-checkpoint.ipynb', '04-Timing your code - timeit-checkpoint.ipynb', '05-Regular Expressions - re-checkpoint.ipynb', '06-StringIO-checkpoint.ipynb']\n",
      "\n",
      "\n",
      "Currently looking at C:\\Users\\selli\\Desktop\\Python\\Udemy-PythonIntro\\Learning Resources\\Complete-Python-3-Bootcamp-master\\14-Advanced Python Objects and Data Structures\n",
      "\tThe subfolders are: \t Subfolder: ['.ipynb_checkpoints']\n",
      "\t\tThe files are: \t File: ['01-Advanced Numbers.ipynb', '02-Advanced Strings.ipynb', '03-Advanced Sets.ipynb', '04-Advanced Dictionaries.ipynb', '05-Advanced Lists.ipynb', '06-Advanced Python Objects Test.ipynb', '07-Advanced Python Objects Test - Solutions.ipynb', '08-BONUS - With Statement Context Managers.ipynb']\n",
      "\n",
      "\n",
      "Currently looking at C:\\Users\\selli\\Desktop\\Python\\Udemy-PythonIntro\\Learning Resources\\Complete-Python-3-Bootcamp-master\\14-Advanced Python Objects and Data Structures\\.ipynb_checkpoints\n",
      "\tThe subfolders are: \t Subfolder: []\n",
      "\t\tThe files are: \t File: ['01-Advanced Numbers-checkpoint.ipynb', '02-Advanced Strings-checkpoint.ipynb', '03-Advanced Sets-checkpoint.ipynb', '04-Advanced Dictionaries-checkpoint.ipynb', '05-Advanced Lists-checkpoint.ipynb', '06-Advanced Python Objects Test-checkpoint.ipynb', '07-Advanced Python Objects Test - Solutions-checkpoint.ipynb']\n",
      "\n",
      "\n",
      "Currently looking at C:\\Users\\selli\\Desktop\\Python\\Udemy-PythonIntro\\Learning Resources\\Complete-Python-3-Bootcamp-master\\15-Advanced OOP\n",
      "\tThe subfolders are: \t Subfolder: ['.ipynb_checkpoints']\n",
      "\t\tThe files are: \t File: ['01-Advanced Object Oriented Programming.ipynb']\n",
      "\n",
      "\n",
      "Currently looking at C:\\Users\\selli\\Desktop\\Python\\Udemy-PythonIntro\\Learning Resources\\Complete-Python-3-Bootcamp-master\\15-Advanced OOP\\.ipynb_checkpoints\n",
      "\tThe subfolders are: \t Subfolder: []\n",
      "\t\tThe files are: \t File: ['01-Advanced Object Oriented Programming-checkpoint.ipynb']\n",
      "\n",
      "\n",
      "Currently looking at C:\\Users\\selli\\Desktop\\Python\\Udemy-PythonIntro\\Learning Resources\\Complete-Python-3-Bootcamp-master\\16-Bonus Material - Introduction to GUIs\n",
      "\tThe subfolders are: \t Subfolder: ['.ipynb_checkpoints']\n",
      "\t\tThe files are: \t File: ['01-Interact.ipynb', '02-Widget Basics.ipynb', '03-Widget List.ipynb', '04-Widget Events.ipynb', '05-Widget Styling.ipynb', '06-Custom Widget.ipynb', '07-Advanced Widget List.ipynb', '08-Advanced Widget Styling with Layout.ipynb']\n",
      "\n",
      "\n",
      "Currently looking at C:\\Users\\selli\\Desktop\\Python\\Udemy-PythonIntro\\Learning Resources\\Complete-Python-3-Bootcamp-master\\16-Bonus Material - Introduction to GUIs\\.ipynb_checkpoints\n",
      "\tThe subfolders are: \t Subfolder: []\n",
      "\t\tThe files are: \t File: ['01-Interact-checkpoint.ipynb', '02-Widget Basics-checkpoint.ipynb', '03-Widget List-checkpoint.ipynb', '04-Widget Events-checkpoint.ipynb', '05-Widget Styling-checkpoint.ipynb', '06-Custom Widget-checkpoint.ipynb', '07-Advanced Widget List-checkpoint.ipynb', '08-Advanced Widget Styling with Layout-checkpoint.ipynb']\n",
      "\n",
      "\n",
      "Currently looking at C:\\Users\\selli\\Desktop\\Python\\Udemy-PythonIntro\\Learning Resources\\Complete-Python-3-Bootcamp-master\\17-Parallel Processing\n",
      "\tThe subfolders are: \t Subfolder: ['.ipynb_checkpoints']\n",
      "\t\tThe files are: \t File: ['01-Multithreading and Multiprocessing.ipynb', 'test.py', 'test2.py']\n",
      "\n",
      "\n",
      "Currently looking at C:\\Users\\selli\\Desktop\\Python\\Udemy-PythonIntro\\Learning Resources\\Complete-Python-3-Bootcamp-master\\17-Parallel Processing\\.ipynb_checkpoints\n",
      "\tThe subfolders are: \t Subfolder: []\n",
      "\t\tThe files are: \t File: ['01-Multithreading and Multiprocessing-checkpoint.ipynb']\n",
      "\n",
      "\n"
     ]
    }
   ],
   "source": [
    "filepath = 'C:\\\\Users\\\\selli\\\\Desktop\\\\Python\\\\Udemy-PythonIntro\\\\Learning Resources'\n",
    "for folder,sub_folders,files in os.walk(filepath):\n",
    "    print(f\"Currently looking at {folder}\\n\\tThe subfolders are: \\t Subfolder: {[sub_fold for sub_fold in sub_folders]}\\n\\t\\tThe files are: \\t File: {[f for f in files]}\\n\\n\")"
   ]
  },
  {
   "cell_type": "markdown",
   "metadata": {},
   "source": [
    "**Use the initial *for loop* to add customizable parameters for which files to return as output**"
   ]
  }
 ],
 "metadata": {
  "kernelspec": {
   "display_name": "Python 3",
   "language": "python",
   "name": "python3"
  },
  "language_info": {
   "codemirror_mode": {
    "name": "ipython",
    "version": 3
   },
   "file_extension": ".py",
   "mimetype": "text/x-python",
   "name": "python",
   "nbconvert_exporter": "python",
   "pygments_lexer": "ipython3",
   "version": "3.8.6"
  }
 },
 "nbformat": 4,
 "nbformat_minor": 4
}
