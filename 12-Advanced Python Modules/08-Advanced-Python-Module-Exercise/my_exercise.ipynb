{
 "cells": [
  {
   "cell_type": "code",
   "execution_count": 1,
   "metadata": {},
   "outputs": [],
   "source": [
    "import shutil\n",
    "\n",
    "# file = shutil.unpack_archive('unzip_me_for_instructions.zip','instructions','zip')"
   ]
  },
  {
   "cell_type": "code",
   "execution_count": 3,
   "metadata": {},
   "outputs": [
    {
     "name": "stdout",
     "output_type": "stream",
     "text": [
      "C:\\Users\\selli\\Desktop\\Python\\Udemy-PythonIntro\\Bootcamp_Files\\Complete-Python-3-Bootcamp\\12-Advanced Python Modules\\08-Advanced-Python-Module-Exercise\\instructions\\extracted_content\n"
     ]
    }
   ],
   "source": [
    "cd instructions/extracted_content/"
   ]
  },
  {
   "cell_type": "code",
   "execution_count": 4,
   "metadata": {},
   "outputs": [],
   "source": [
    "file = open('instructions.txt', 'r')\n",
    "f = file.read()\n",
    "file.close()"
   ]
  },
  {
   "cell_type": "code",
   "execution_count": 5,
   "metadata": {},
   "outputs": [
    {
     "data": {
      "text/plain": [
       "'Good work on unzipping the file!\\nYou should now see 5 folders, each with a lot of random .txt files.\\nWithin one of these text files is a telephone number formated ###-###-#### \\nUse the Python os module and regular expressions to iterate through each file, open it, and search for a telephone number.\\nGood luck!'"
      ]
     },
     "execution_count": 5,
     "metadata": {},
     "output_type": "execute_result"
    }
   ],
   "source": [
    "f"
   ]
  },
  {
   "cell_type": "code",
   "execution_count": 6,
   "metadata": {},
   "outputs": [],
   "source": [
    "import os"
   ]
  },
  {
   "cell_type": "code",
   "execution_count": 6,
   "metadata": {},
   "outputs": [],
   "source": [
    "ls"
   ]
  },
  {
   "cell_type": "code",
   "execution_count": 7,
   "metadata": {},
   "outputs": [],
   "source": [
    "path = 'C:\\\\Users\\\\selli\\\\Desktop\\\\Python\\\\Udemy-PythonIntro\\\\Bootcamp_Files\\\\Complete-Python-3-Bootcamp\\\\12-Advanced Python Modules\\\\08-Advanced-Python-Module-Exercise\\\\instructions\\\\extracted_content'\n",
    "\n",
    "list_sub_folders = []\n",
    "list_files = []\n",
    "for folder,sub_folders,files in os.walk(path):\n",
    "    list_sub_folders.append(sub_folders)\n",
    "    list_files.append(files)"
   ]
  },
  {
   "cell_type": "code",
   "execution_count": 8,
   "metadata": {},
   "outputs": [],
   "source": [
    "list_sub_folders = list_sub_folders[0]\n",
    "d = {}\n",
    "for i,folder in enumerate(list_sub_folders):\n",
    "    d[folder] = list_files[i+1]"
   ]
  },
  {
   "cell_type": "code",
   "execution_count": 35,
   "metadata": {},
   "outputs": [],
   "source": [
    "# d"
   ]
  },
  {
   "cell_type": "code",
   "execution_count": 37,
   "metadata": {},
   "outputs": [
    {
     "name": "stdout",
     "output_type": "stream",
     "text": [
      "Not file: AEITMYIRQLP.txt\n",
      "Not file: APJKSRITGGX.txt\n",
      "Not file: AQKATDFGXTS.txt\n",
      "Not file: ARLKFCWIAJE.txt\n",
      "Not file: AXJGVPVEFAS.txt\n",
      "Not file: BNUQEHCFRTG.txt\n",
      "Not file: BSKJDRNEZQM.txt\n",
      "Not file: BTYWAHLHKBM.txt\n",
      "Not file: BUGKBZWRRVI.txt\n",
      "Not file: BVBURZZCAPR.txt\n",
      "Not file: CAHBEVSVDDN.txt\n",
      "Not file: COMGMZBJAYE.txt\n",
      "Not file: CRFSDGYFSHA.txt\n",
      "Not file: CSCLFZCDYYC.txt\n",
      "Not file: CXBVCTRBBIE.txt\n",
      "Not file: DDLASODUVPX.txt\n",
      "Not file: DHZBAAYEADM.txt\n",
      "Not file: DQPZQLBCJYP.txt\n",
      "Not file: DYOPIIVMZOO.txt\n",
      "Not file: DZUWWXYIAEL.txt\n",
      "Not file: EAAOEPSAWMQ.txt\n",
      "Not file: EIPWXMQZJKU.txt\n",
      "Not file: ESIZWBHMGDP.txt\n",
      "Not file: ETCUEXWNBCF.txt\n",
      "Not file: EYTCGIOYWIW.txt\n",
      "Not file: ECIOBYCDVFI.txt\n",
      "Not file: HDOHZHFSTTK.txt\n",
      "Not file: HFUTPPAXDIS.txt\n",
      "Not file: HMNZTLIFGPD.txt\n",
      "Not file: HRQFTHKVJTL.txt\n",
      "Not file: HVUTZEVMSBW.txt\n",
      "Not file: JDLRVFCXYLU.txt\n",
      "Not file: JEHBLZPUPSP.txt\n",
      "Not file: JLTXKIGCWDL.txt\n",
      "Not file: JQUOBKFUACN.txt\n",
      "Not file: JTHSNBNPQSE.txt\n",
      "Not file: KCXGNQCZBLO.txt\n",
      "Not file: KFIUZFERLET.txt\n",
      "Not file: KMMLGJOWLGI.txt\n",
      "Not file: KNBSKDREHQU.txt\n",
      "Not file: KTXDHIOKAUI.txt\n",
      "Not file: LDGOCUQJNNS.txt\n",
      "Not file: LFEATJAAYDC.txt\n",
      "Not file: LHODFIKVTQA.txt\n",
      "Not file: LIFDHOFKWOI.txt\n",
      "Not file: LPNDVDXPZIG.txt\n",
      "Not file: PDJMSMNKIRM.txt\n",
      "Not file: PHWAVPEKAER.txt\n",
      "Not file: PLYCGPVEAWO.txt\n",
      "Not file: PQNVCVJINAR.txt\n",
      "Not file: PTOBBCJYURJ.txt\n",
      "Not file: VAQIJTDOFUJ.txt\n",
      "Not file: VCFJCGJFBIH.txt\n",
      "Not file: VSXFSTABZDY.txt\n",
      "Not file: VVHFVZUNLOO.txt\n",
      "Not file: VVKGWLRMHLU.txt\n",
      "Not file: XAJMCPEWFNI.txt\n",
      "Not file: XFHJOTNPEJG.txt\n",
      "Not file: XHZPVUQTXIO.txt\n",
      "Not file: XJCWENFFGHB.txt\n",
      "Not file: XVMPVSVYKFR.txt\n",
      "Not file: YCESZHJDBXH.txt\n",
      "Not file: YDQFMWXOUMW.txt\n",
      "Not file: YQBIUHSUEVW.txt\n",
      "Not file: YQRNCMNFFHW.txt\n",
      "Not file: YYIZGBTQHZP.txt\n",
      "Not file: ZEZKKRBIZEB.txt\n",
      "Not file: ZKQJXAYKPVD.txt\n",
      "Not file: ZOWVXWPOGWP.txt\n",
      "Not file: ZXEZRQXZNPG.txt\n",
      "Not file: ZXIBJMPROKW.txt\n",
      "Not file: GKQBQRCTNNK.txt\n",
      "Not file: GMMQQUBMJNR.txt\n",
      "Not file: GQTJJORZBXY.txt\n",
      "Not file: GTOTCIWMDBY.txt\n",
      "Not file: GXYSEPAFRTP.txt\n",
      "Not file: HARDNJGDRBC.txt\n",
      "Not file: HEORIXOTANT.txt\n",
      "Not file: HMUTDOVNYTV.txt\n",
      "Not file: HMZXPBOPRAE.txt\n",
      "Not file: HTOHSTYXTCO.txt\n",
      "Not file: LCJZYDHBFRM.txt\n",
      "Not file: LSQSTGPIGIY.txt\n",
      "Not file: LULTNYAQEJG.txt\n",
      "Not file: LVMBINRBJXL.txt\n",
      "Not file: LYZEQCVYNEZ.txt\n",
      "Not file: OHZOUOSFJQC.txt\n",
      "Not file: OIHMLGMWTHL.txt\n",
      "Not file: OKWFOOYTXFU.txt\n",
      "Not file: OMWIMVRCMYM.txt\n",
      "Not file: OYMAGXAGWHJ.txt\n",
      "Not file: SIKFPPLCJDN.txt\n",
      "Not file: SJMJLDGPBSJ.txt\n",
      "Not file: SOFUJYXTIMK.txt\n",
      "Not file: SPDZYGDHEWO.txt\n",
      "Not file: SWOFXREEHWA.txt\n",
      "PROCESS FINISHED...\n",
      "AMOUNT INCORRECT: 25\n"
     ]
    }
   ],
   "source": [
    "big_string = ''\n",
    "for k in d.keys():\n",
    "#     print(d[k])\n",
    "    for v in d[k]:\n",
    "        t = ''\n",
    "        t_file = open(f'{k}/{v}','r')\n",
    "        t = t_file.read()\n",
    "        t_file.close()\n",
    "        phone = re.search(r'\\d{3}-\\d{3}-\\d{4}', t)\n",
    "        if phone:\n",
    "            big_string += f'Phone: {phone.group()}, Folder: {k}, File: {v}'\n",
    "            break\n",
    "        else:\n",
    "            print(f'Not file: {v}')\n",
    "print(f'PROCESS FINISHED...\\nAMOUNT INCORRECT: {len(d[k])}')"
   ]
  },
  {
   "cell_type": "code",
   "execution_count": 34,
   "metadata": {},
   "outputs": [
    {
     "name": "stdout",
     "output_type": "stream",
     "text": [
      "Phone: 719-266-2837, Folder: Four, File: EMTGPSXQEJX.txt\n"
     ]
    }
   ],
   "source": [
    "print(big_string)"
   ]
  }
 ],
 "metadata": {
  "kernelspec": {
   "display_name": "Python 3",
   "language": "python",
   "name": "python3"
  },
  "language_info": {
   "codemirror_mode": {
    "name": "ipython",
    "version": 3
   },
   "file_extension": ".py",
   "mimetype": "text/x-python",
   "name": "python",
   "nbconvert_exporter": "python",
   "pygments_lexer": "ipython3",
   "version": "3.8.6"
  }
 },
 "nbformat": 4,
 "nbformat_minor": 4
}
