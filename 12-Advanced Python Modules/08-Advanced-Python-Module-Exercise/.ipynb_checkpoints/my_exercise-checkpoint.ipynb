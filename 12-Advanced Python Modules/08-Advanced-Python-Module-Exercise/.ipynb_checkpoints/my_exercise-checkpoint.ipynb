{
 "cells": [
  {
   "cell_type": "code",
   "execution_count": 1,
   "metadata": {},
   "outputs": [],
   "source": [
    "import shutil\n",
    "\n",
    "# file = shutil.unpack_archive('unzip_me_for_instructions.zip','instructions','zip')"
   ]
  },
  {
   "cell_type": "code",
   "execution_count": 2,
   "metadata": {},
   "outputs": [
    {
     "name": "stdout",
     "output_type": "stream",
     "text": [
      "C:\\Users\\selli\\Desktop\\Python\\Udemy-PythonIntro\\Bootcamp_Files\\Complete-Python-3-Bootcamp\\12-Advanced Python Modules\\08-Advanced-Python-Module-Exercise\\instructions\\extracted_content\n"
     ]
    }
   ],
   "source": [
    "cd instructions/extracted_content/"
   ]
  },
  {
   "cell_type": "code",
   "execution_count": 3,
   "metadata": {},
   "outputs": [],
   "source": [
    "file = open('instructions.txt', 'r')\n",
    "f = file.read()\n",
    "file.close()"
   ]
  },
  {
   "cell_type": "code",
   "execution_count": 4,
   "metadata": {},
   "outputs": [
    {
     "data": {
      "text/plain": [
       "'Good work on unzipping the file!\\nYou should now see 5 folders, each with a lot of random .txt files.\\nWithin one of these text files is a telephone number formated ###-###-#### \\nUse the Python os module and regular expressions to iterate through each file, open it, and search for a telephone number.\\nGood luck!'"
      ]
     },
     "execution_count": 4,
     "metadata": {},
     "output_type": "execute_result"
    }
   ],
   "source": [
    "f"
   ]
  },
  {
   "cell_type": "code",
   "execution_count": 5,
   "metadata": {},
   "outputs": [],
   "source": [
    "import os"
   ]
  },
  {
   "cell_type": "code",
   "execution_count": 14,
   "metadata": {},
   "outputs": [],
   "source": [
    "# ls"
   ]
  },
  {
   "cell_type": "code",
   "execution_count": 7,
   "metadata": {},
   "outputs": [],
   "source": [
    "path = 'C:\\\\Users\\\\selli\\\\Desktop\\\\Python\\\\Udemy-PythonIntro\\\\Bootcamp_Files\\\\Complete-Python-3-Bootcamp\\\\12-Advanced Python Modules\\\\08-Advanced-Python-Module-Exercise\\\\instructions\\\\extracted_content'\n",
    "\n",
    "list_sub_folders = []\n",
    "list_files = []\n",
    "for folder,sub_folders,files in os.walk(path):\n",
    "    list_sub_folders.append(sub_folders)\n",
    "    list_files.append(files)"
   ]
  },
  {
   "cell_type": "code",
   "execution_count": 8,
   "metadata": {},
   "outputs": [],
   "source": [
    "list_sub_folders = list_sub_folders[0]\n",
    "d = {}\n",
    "for i,folder in enumerate(list_sub_folders):\n",
    "    d[folder] = list_files[i+1]"
   ]
  },
  {
   "cell_type": "code",
   "execution_count": 11,
   "metadata": {},
   "outputs": [],
   "source": [
    "import re"
   ]
  },
  {
   "cell_type": "code",
   "execution_count": 12,
   "metadata": {},
   "outputs": [],
   "source": [
    "big_string = ''\n",
    "for k in d.keys():\n",
    "#     print(d[k])\n",
    "    for v in d[k]:\n",
    "        t = ''\n",
    "        t_file = open(f'{k}/{v}','r')\n",
    "        t = t_file.read()\n",
    "        t_file.close()\n",
    "        phone = re.search(r'\\d{3}-\\d{3}-\\d{4}', t)\n",
    "        if phone:\n",
    "            big_string += f'Phone: {phone.group()}, Folder: {k}, File: {v}'\n",
    "            break\n",
    "#         else:\n",
    "#             print(f'Not file: {v}')\n",
    "# print(f'PROCESS FINISHED...\\nAMOUNT INCORRECT: {len(d[k])}')"
   ]
  },
  {
   "cell_type": "code",
   "execution_count": 13,
   "metadata": {},
   "outputs": [
    {
     "name": "stdout",
     "output_type": "stream",
     "text": [
      "Phone: 719-266-2837, Folder: Four, File: EMTGPSXQEJX.txt\n"
     ]
    }
   ],
   "source": [
    "print(big_string)"
   ]
  },
  {
   "cell_type": "markdown",
   "metadata": {},
   "source": [
    "## Solution from Instructor"
   ]
  },
  {
   "cell_type": "code",
   "execution_count": null,
   "metadata": {},
   "outputs": [],
   "source": [
    "import shutil\n",
    "shutil.unpack_archive('unzip_me_for_instructions.zip', '','zip')\n",
    "\n",
    "with open('extracted_content/Instructions.txt') as f:\n",
    "    content = f.read()\n",
    "    print(content)\n",
    "    \n",
    "import re\n",
    "pattern = r'\\d{3}-\\d{3}-\\d{4}'\n",
    "\n",
    "def search (file,pattern):\n",
    "    f = open(file,'r')\n",
    "    text = f.read()\n",
    "    \n",
    "    if re.search(pattern,text):\n",
    "        return re.search(pattern, text)\n",
    "    else:\n",
    "        return ''\n",
    "    \n",
    "\n",
    "import os \n",
    "\n",
    "results = []\n",
    "\n",
    "os.getcwd()+'\\\\extracted_content'\n",
    "\n",
    "for folder,sub_folders,files in os.walk(os.getcwd()+'\\\\extracted_content'):\n",
    "    for f in files:\n",
    "        full_path = folder+'\\\\'+f\n",
    "        results.append(search(full_path))\n",
    "        \n",
    "for r in results:\n",
    "    if r != '':\n",
    "        print(r.group())"
   ]
  }
 ],
 "metadata": {
  "kernelspec": {
   "display_name": "Python 3",
   "language": "python",
   "name": "python3"
  },
  "language_info": {
   "codemirror_mode": {
    "name": "ipython",
    "version": 3
   },
   "file_extension": ".py",
   "mimetype": "text/x-python",
   "name": "python",
   "nbconvert_exporter": "python",
   "pygments_lexer": "ipython3",
   "version": "3.8.6"
  }
 },
 "nbformat": 4,
 "nbformat_minor": 4
}
