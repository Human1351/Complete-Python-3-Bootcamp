{
 "cells": [
  {
   "cell_type": "markdown",
   "metadata": {},
   "source": [
    "# Working with PDF Files in Python\n",
    "\n",
    "<br>\n",
    "\n",
    "- Portable Document Format\n",
    "- Many PDF's are not readable with Python\n",
    "    - Other (usually paid) software is available to read 'non-readable' PDF Files\n",
    "    \n",
    "**More tools for reading PDF or -like types available:** [Link](https://www.binpress.com/manipulate-pdf-python/)\n",
    "\n",
    "<br>\n",
    "\n",
    "*PyPDF2* Will be our library for reading PDF's today\n",
    "```\n",
    "pip install PyPDF2\n",
    "```\n",
    "<br>\n",
    "\n",
    "**NOTE:** You can add to a (readable) PDF but only new pages.  You cannot, as of now, insert into a PDF document and save it again\n",
    "\n",
    "<br>\n",
    "\n",
    "## Opening a PDF File\n",
    "### Process:\n",
    "1. Open file\n",
    "2. Initialize a *reader* obj\n",
    "3. Do whatever:\n",
    "- ex:\n",
    "    - Check number of pages\n",
    "    - Extract the text from a certain page\n",
    "    - etc...\n",
    "    "
   ]
  },
  {
   "cell_type": "code",
   "execution_count": null,
   "metadata": {},
   "outputs": [],
   "source": []
  },
  {
   "cell_type": "code",
   "execution_count": 1,
   "metadata": {},
   "outputs": [],
   "source": [
    "import PyPDF2"
   ]
  },
  {
   "cell_type": "code",
   "execution_count": 2,
   "metadata": {},
   "outputs": [],
   "source": [
    "f = open('Working_Business_Proposal.pdf','rb')    # rb -> read binary\n",
    "\n",
    "# Initialize a PDF Reader Object\n",
    "pdf_reader = PyPDF2.PdfFileReader(f)"
   ]
  },
  {
   "cell_type": "code",
   "execution_count": 3,
   "metadata": {},
   "outputs": [
    {
     "data": {
      "text/plain": [
       "5"
      ]
     },
     "execution_count": 3,
     "metadata": {},
     "output_type": "execute_result"
    }
   ],
   "source": [
    "# See number of pages in doc\n",
    "pdf_reader.numPages"
   ]
  },
  {
   "cell_type": "code",
   "execution_count": 5,
   "metadata": {},
   "outputs": [
    {
     "data": {
      "text/plain": [
       "'Business Proposal\\n The Revolution is Coming\\n Leverage agile frameworks to provide a robust synopsis for high level \\noverviews. Iterative approaches to corporate strategy foster collaborative \\nthinking to further the overall value proposition. Organically grow the \\nholistic world view of disruptive innovation via workplace diversity and \\nempowerment. \\nBring to the table win-win survival strategies to ensure proactive \\ndomination. At the end of the day, going forward, a new normal that has \\nevolved from generation X is on the runway heading towards a streamlined \\ncloud solution. User generated content in real-time will have multiple \\ntouchpoints for offshoring. \\nCapitalize on low hanging fruit to identify a ballpark value added activity to \\nbeta test. Override the digital divide with additional clickthroughs from \\nDevOps. Nanotechnology immersion along the information highway will \\nclose the loop on focusing solely on the bottom line. Podcasting operational change management inside of workßows to \\nestablish a framework. Taking seamless key performance indicators ofßine \\nto maximise the long tail. Keeping your eye on the ball while performing a \\ndeep dive on the start-up mentality to derive convergence on cross-\\nplatform integration. \\nCollaboratively administrate empowered markets via plug-and-play \\nnetworks. Dynamically procrastinate B2C users after installed base \\nbeneÞts. Dramatically visualize customer directed convergence without \\nrevolutionary ROI. \\nEfÞciently unleash cross-media information without cross-media value. \\nQuickly maximize timely deliverables for real-time schemas. Dramatically \\nmaintain clicks-and-mortar solutions without functional solutions. \\nBUSINESS PROPOSAL\\n!1'"
      ]
     },
     "execution_count": 5,
     "metadata": {},
     "output_type": "execute_result"
    }
   ],
   "source": [
    "# Get the first page of document\n",
    "page_one = pdf_reader.getPage(0)    # index 0 -> page 1\n",
    "\n",
    "# Get the text from the first page\n",
    "page_one_text = page_one.extractText()\n",
    "page_one_text"
   ]
  },
  {
   "cell_type": "markdown",
   "metadata": {},
   "source": [
    "## Adding to a PDF File"
   ]
  },
  {
   "cell_type": "code",
   "execution_count": 6,
   "metadata": {},
   "outputs": [],
   "source": [
    "# Open a document, Write the first page of the document to a new PDF File\n",
    "f = open('Working_Business_Proposal.pdf','rb')\n",
    "pdf_reader = PyPDF2.PdfFileReader(f)\n",
    "\n",
    "first_page = pdf_reader.getPage(0)"
   ]
  },
  {
   "cell_type": "code",
   "execution_count": 7,
   "metadata": {},
   "outputs": [],
   "source": [
    "# Write to a new object\n",
    "pdf_writer = PyPDF2.PdfFileWriter()\n",
    "\n",
    "# Add a new page to the writer object to be saved (first page from file opened first in this example)\n",
    "pdf_writer.addPage(first_page)"
   ]
  },
  {
   "cell_type": "code",
   "execution_count": 9,
   "metadata": {},
   "outputs": [],
   "source": [
    "# Open a NEW pdf document\n",
    "pdf_output = open('Some_BrandNew_Doc.pdf','wb')\n",
    "\n",
    "# Write the added page (object) to the file (output)\n",
    "pdf_writer.write(pdf_output)\n",
    "\n",
    "# Close all files when done\n",
    "f.close()\n",
    "pdf_output.close()"
   ]
  },
  {
   "cell_type": "code",
   "execution_count": null,
   "metadata": {},
   "outputs": [],
   "source": []
  }
 ],
 "metadata": {
  "kernelspec": {
   "display_name": "Python 3",
   "language": "python",
   "name": "python3"
  },
  "language_info": {
   "codemirror_mode": {
    "name": "ipython",
    "version": 3
   },
   "file_extension": ".py",
   "mimetype": "text/x-python",
   "name": "python",
   "nbconvert_exporter": "python",
   "pygments_lexer": "ipython3",
   "version": "3.8.6"
  }
 },
 "nbformat": 4,
 "nbformat_minor": 4
}
